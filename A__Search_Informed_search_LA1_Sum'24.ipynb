{
  "nbformat": 4,
  "nbformat_minor": 0,
  "metadata": {
    "colab": {
      "provenance": []
    },
    "kernelspec": {
      "name": "python3",
      "display_name": "Python 3"
    },
    "language_info": {
      "name": "python"
    }
  },
  "cells": [
    {
      "cell_type": "code",
      "source": [
        "#previous code (output file)\n",
        "import heapq\n",
        "\n",
        "graph = {}\n",
        "heuristics = {}\n",
        "\n",
        "def read_input_file(file_info):\n",
        "    with open(file_info, 'r') as file:\n",
        "        lines = file.readlines()\n",
        "\n",
        "    for info in lines:\n",
        "        city_info = info.split()\n",
        "        node = city_info[0]\n",
        "        heuristic_val = int(city_info[1])\n",
        "        heuristics[node] = heuristic_val\n",
        "        edges = {}\n",
        "        for i in range(2, len(city_info), 2):\n",
        "            neighbor = city_info[i]\n",
        "            distance = int(city_info[i + 1])\n",
        "            edges[neighbor] = distance\n",
        "        graph[node] = edges\n",
        "\n",
        "def AStar_Search(start, goal):\n",
        "    pq_list = []\n",
        "    heapq.heappush(pq_list, (heuristics[start], 0, start, [start]))\n",
        "    explored_list = set()\n",
        "\n",
        "    while pq_list:\n",
        "        _, cost, current, path = heapq.heappop(pq_list)\n",
        "        if current in explored_list:\n",
        "            continue\n",
        "        explored_list.add(current)\n",
        "\n",
        "        if current == goal:\n",
        "            return (cost, path)\n",
        "\n",
        "        for neighbor, distance in graph[current].items():\n",
        "            if neighbor not in explored_list:\n",
        "                new_cost = cost + distance\n",
        "                priority = new_cost + heuristics[neighbor]\n",
        "                heapq.heappush(pq_list, (priority, new_cost, neighbor, path + [neighbor]))\n",
        "\n",
        "    return None\n",
        "\n",
        "def optimized_Romania_explore():\n",
        "\n",
        "    read_input_file('/content/sample_data/Sabira_CSE422_09_Lab_Assignment01_InputFile_Summer2024.txt')\n",
        "    start = input(\"Start node: \")\n",
        "    goal = input(\"Destination: \")\n",
        "\n",
        "    optimized_path = AStar_Search(start, goal)\n",
        "\n",
        "    with open('/content/sample_data/Sabira_LA1_Output.txt', 'w') as output_file:\n",
        "        if optimized_path:\n",
        "            total_distance, path = optimized_path\n",
        "            output_file.write(f\"Path: {' -> '.join(path)}\\n\")\n",
        "            output_file.write(f\"Total distance: {total_distance} km\\n\")\n",
        "\n",
        "        else:\n",
        "            output_file.write(\"NO PATH FOUND\\n\")\n",
        "\n",
        "optimized_Romania_explore()\n"
      ],
      "metadata": {
        "colab": {
          "base_uri": "https://localhost:8080/"
        },
        "id": "tEEsFPt2wla1",
        "outputId": "3530690c-6823-4894-89e0-ef4ac8128452"
      },
      "execution_count": null,
      "outputs": [
        {
          "name": "stdout",
          "output_type": "stream",
          "text": [
            "Start node: Arad\n",
            "Destination: Bucharest\n"
          ]
        }
      ]
    },
    {
      "cell_type": "code",
      "source": [
        "#updated code (print RESULT)\n",
        "import heapq\n",
        "\n",
        "graph = {}\n",
        "heuristics = {}\n",
        "\n",
        "def read_input_file(file_info):\n",
        "    with open(file_info, 'r') as file:\n",
        "        lines = file.readlines()\n",
        "\n",
        "    for info in lines:\n",
        "        city_info = info.split()\n",
        "        node = city_info[0]\n",
        "        heuristic_val = int(city_info[1])\n",
        "        heuristics[node] = heuristic_val\n",
        "        edges = {}\n",
        "        for i in range(2, len(city_info), 2):\n",
        "            neighbor = city_info[i]\n",
        "            distance = int(city_info[i + 1])\n",
        "            edges[neighbor] = distance\n",
        "        graph[node] = edges\n",
        "\n",
        "def AStar_Search(start, goal):\n",
        "    pq_list = []\n",
        "    heapq.heappush(pq_list, (heuristics[start], 0, start, [start]))\n",
        "    explored_list = set()\n",
        "\n",
        "    while pq_list:\n",
        "        _, cost, current, path = heapq.heappop(pq_list)\n",
        "        if current in explored_list:\n",
        "            continue\n",
        "        explored_list.add(current)\n",
        "\n",
        "        if current == goal:\n",
        "            return (cost, path)\n",
        "\n",
        "        for neighbor, distance in graph[current].items():\n",
        "            if neighbor not in explored_list:\n",
        "                new_cost = cost + distance\n",
        "                priority = new_cost + heuristics[neighbor]\n",
        "                heapq.heappush(pq_list, (priority, new_cost, neighbor, path + [neighbor]))\n",
        "\n",
        "    return None\n",
        "\n",
        "def optimized_Romania_explore():\n",
        "    read_input_file('/content/sample_data/Sabira_CSE422_Lab_Assignment01_InputFile_Summer2024.txt')\n",
        "    start = input(\"Start node: \")\n",
        "    goal = input(\"Destination: \")\n",
        "\n",
        "    optimized_path = AStar_Search(start, goal)\n",
        "\n",
        "    if optimized_path:\n",
        "        total_distance, path = optimized_path\n",
        "        print(f\"Path: {' -> '.join(path)}\")\n",
        "        print(f\"Total distance: {total_distance} km\")\n",
        "    else:\n",
        "        print(\"NO PATH FOUND\")\n",
        "\n",
        "optimized_Romania_explore()"
      ],
      "metadata": {
        "colab": {
          "base_uri": "https://localhost:8080/"
        },
        "id": "HynQr9rNJ3NP",
        "outputId": "80d61074-20ac-41ad-cfd3-eed9f387f2f0"
      },
      "execution_count": null,
      "outputs": [
        {
          "output_type": "stream",
          "name": "stdout",
          "text": [
            "Start node: Arad\n",
            "Destination: Bucharest\n",
            "Path: Arad -> Sibiu -> RimnicuVilcea -> Pitesti -> Bucharest\n",
            "Total distance: 418 km\n"
          ]
        }
      ]
    }
  ]
}